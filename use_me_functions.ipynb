{
 "cells": [
  {
   "cell_type": "markdown",
   "id": "f8f37e10",
   "metadata": {},
   "source": [
    "# `Standard Imports`"
   ]
  },
  {
   "cell_type": "code",
   "execution_count": 7,
   "id": "aecaa5e8",
   "metadata": {},
   "outputs": [],
   "source": [
    "import numpy as np\n",
    "import seaborn as sns\n",
    "import scipy.stats as stats\n",
    "import pandas as pd\n",
    "import matplotlib.pyplot as plt\n",
    "import env"
   ]
  },
  {
   "cell_type": "markdown",
   "id": "69de3b69",
   "metadata": {},
   "source": [
    "* from pydataset import data\n",
    "* mpg = data('mpg')\n",
    "* mpg.head()"
   ]
  },
  {
   "cell_type": "markdown",
   "id": "d37cdd13",
   "metadata": {},
   "source": [
    "# `Stats Tests`"
   ]
  },
  {
   "cell_type": "markdown",
   "id": "fb979e26",
   "metadata": {},
   "source": [
    "> discrete - discrete = chi 2\n",
    "\n",
    "> discrete - continouts = means test\n",
    "\n",
    "> continous - continous = correlation\n",
    "\n",
    "> 2 or more independent groups = ANOVA"
   ]
  },
  {
   "cell_type": "markdown",
   "id": "b0036d36",
   "metadata": {},
   "source": [
    "* # $Chi^2$ Test"
   ]
  },
  {
   "cell_type": "markdown",
   "id": "5d7db841",
   "metadata": {},
   "source": [
    "Lets us test the hypothesis that one group is independent of another\n",
    "\n",
    "$H_0$: is always that there is no association between the groups (they are independent)\n",
    "\n",
    "$H_a$: is that there is a association (they are not independent) between the groups\n",
    "\n",
    "> `chi^2: is ran on discrete vs discrete`\n",
    "\n",
    "1. Form hypothesis\n",
    "2. Make contigency table (pd.crosstab)\n",
    "3. Use stats.chi2_contingency"
   ]
  },
  {
   "cell_type": "code",
   "execution_count": 33,
   "id": "813c46b9",
   "metadata": {},
   "outputs": [],
   "source": [
    "def chi2_test(table):\n",
    "    α = 0.05\n",
    "    chi2, pval, degf, expected = stats.chi2_contingency(table)\n",
    "    print('Observed')\n",
    "    print(observed.values)\n",
    "    print('\\nExpected')\n",
    "    print(expected.astype(int))\n",
    "    print('\\n----')\n",
    "    print(f'chi^2 = {chi2:.4f}')\n",
    "    print(f'p-value = {pval:.4f}')\n",
    "    print('----')\n",
    "    if pval < α:\n",
    "        print ('We reject the null hypothesis.')\n",
    "    else:\n",
    "        print (\"We fail to reject the null hypothesis.\")"
   ]
  },
  {
   "cell_type": "markdown",
   "id": "cc6ec1ba",
   "metadata": {},
   "source": [
    "* # One Sample \\ Two-Tailed"
   ]
  },
  {
   "cell_type": "markdown",
   "id": "7c32ce79",
   "metadata": {},
   "source": [
    "> discrete - continuous = means test\n",
    "1. Plot Distributions\n",
    "2. Establish Hypotheses\n",
    "3. Set alpha\n",
    "4. Verify Assumptions\n",
    "    * Normal Distribution\n",
    "        * `run wilcoxon signed rank test if non-parametric`\n",
    "    * Sample Size > 30\n",
    "    * Check Variance (variance is the \"spread\" of the data)\n",
    "        * `Standard Deviation is the square root of variance`\n",
    "5. Compute t-statistic and p-value (stats.ttest_1samp)\n",
    "6. Conclude"
   ]
  },
  {
   "cell_type": "code",
   "execution_count": 22,
   "id": "d5043e43",
   "metadata": {},
   "outputs": [],
   "source": [
    "def conclude_1samp_tt(group1, group_mean):\n",
    "    α = 0.05\n",
    "    tstat, p = stats.ttest_1samp(group1, group_mean)\n",
    "    print(f't-stat')\n",
    "    print(tstat)\n",
    "    print(f'P-Value')\n",
    "    print(p)\n",
    "    print('\\n----')\n",
    "    if ((p < α) & (tstat > 0)):\n",
    "        print(\"we can reject the null hypothesis.\")\n",
    "    else:\n",
    "        print('We fail to reject the null hypothesis.')"
   ]
  },
  {
   "cell_type": "markdown",
   "id": "ae2f73b0",
   "metadata": {},
   "source": [
    "* # One Sample \\ One-Tailed (Greater Than)"
   ]
  },
  {
   "cell_type": "code",
   "execution_count": 13,
   "id": "1e0931fa",
   "metadata": {},
   "outputs": [],
   "source": [
    "def conclude_1samp_gt(group1, group_mean):\n",
    "    α = 0.05\n",
    "    tstat, p = stats.ttest_1samp(group1, group_mean)\n",
    "    print(f't-stat')\n",
    "    print(tstat)\n",
    "    print(f'P-Value')\n",
    "    print(p)\n",
    "    print('\\n----')\n",
    "    if ((p / 2) < α) and (tstat > 0):\n",
    "        print(\"we can reject the null hypothesis.\")\n",
    "    else:\n",
    "        print('We fail to reject the null hypothesis.')"
   ]
  },
  {
   "cell_type": "markdown",
   "id": "094f9eb0",
   "metadata": {},
   "source": [
    "* # One Sample \\ One-Tailed (Less Than)"
   ]
  },
  {
   "cell_type": "code",
   "execution_count": 14,
   "id": "daa10e64",
   "metadata": {},
   "outputs": [],
   "source": [
    "def conclude_1samp_lt(group1, group_mean):\n",
    "    α = 0.05\n",
    "    tstat, p = stats.ttest_1samp(group1, group_mean)\n",
    "    print(f't-stat')\n",
    "    print(tstat)\n",
    "    print(f'P-Value')\n",
    "    print(p)\n",
    "    print('\\n----')\n",
    "    if ((p / 2) < α) and (tstat < 0):\n",
    "        print(\"we can reject the null hypothesis.\")\n",
    "    else:\n",
    "        print('We fail to reject the null hypothesis.')"
   ]
  },
  {
   "cell_type": "markdown",
   "id": "208fa0b4",
   "metadata": {},
   "source": [
    "* # Two Sample \\ Two-Tailed"
   ]
  },
  {
   "cell_type": "markdown",
   "id": "8ebab281",
   "metadata": {},
   "source": [
    "1. Plot Distributions\n",
    "2. Establish Hypotheses\n",
    "3. Set alpha\n",
    "4. Verify Assumptions\n",
    "    * Normal Distribution\n",
    "        * `run mann-whitney test if non-parametric`\n",
    "    * Sample Size > 30\n",
    "    * Independent Samples?\n",
    "5. Compute t-statistic and p-value (stats.ttest_ind)\n",
    "6. Conclude"
   ]
  },
  {
   "cell_type": "code",
   "execution_count": 15,
   "id": "723e1aa0",
   "metadata": {},
   "outputs": [],
   "source": [
    "def conclude_2samp_tt(sample1, sample2):\n",
    "    α = 0.05\n",
    "    stat, p = stats.ttest_ind(sample1, sample2, equal_var=True)\n",
    "    print(f'stat')\n",
    "    print(tstat)\n",
    "    print(f'P-Value')\n",
    "    print(p)\n",
    "    print('\\n----')\n",
    "    if p < α:\n",
    "        print(\"we can reject the null hypothesis.\")\n",
    "    else:\n",
    "        print('We fail to reject the null hypothesis.')"
   ]
  },
  {
   "cell_type": "markdown",
   "id": "aca9a47f",
   "metadata": {},
   "source": [
    "* # Two Sample \\ One-Tailed (Greater Than)"
   ]
  },
  {
   "cell_type": "code",
   "execution_count": 18,
   "id": "2b45f26e",
   "metadata": {},
   "outputs": [],
   "source": [
    "def conclude_2samp_gt(sample1, sample2):\n",
    "    α = 0.05\n",
    "    stat, p = stats.ttest_ind(sample1, sample2, equal_var=True)\n",
    "    print(f'stat')\n",
    "    print(tstat)\n",
    "    print(f'P-Value')\n",
    "    print(p)\n",
    "    print('\\n----')\n",
    "    if (((p/2) < α) and (tstat > 0)):\n",
    "        print(\"we can reject the null hypothesis.\")\n",
    "    else:\n",
    "        print('We fail to reject the null hypothesis.')"
   ]
  },
  {
   "cell_type": "markdown",
   "id": "de84e819",
   "metadata": {},
   "source": [
    "* # Two Sample \\ One-Tailed (Less Than)"
   ]
  },
  {
   "cell_type": "code",
   "execution_count": 19,
   "id": "4e4ab238",
   "metadata": {},
   "outputs": [],
   "source": [
    "def conclude_2samp_lt(sample1, sample2):\n",
    "    α = 0.05\n",
    "    stat, p = stats.ttest_ind(sample1, sample2, equal_var=True)\n",
    "    print(f'stat')\n",
    "    print(tstat)\n",
    "    print(f'P-Value')\n",
    "    print(p)\n",
    "    print('\\n----')\n",
    "    if (((p/2) < α) and (tstat < 0)):\n",
    "        print(\"we can reject the null hypothesis.\")\n",
    "    else:\n",
    "        print('We fail to reject the null hypothesis.')"
   ]
  },
  {
   "cell_type": "markdown",
   "id": "97bfe0d0",
   "metadata": {},
   "source": [
    "* # ANOVA"
   ]
  },
  {
   "cell_type": "markdown",
   "id": "191fefc1",
   "metadata": {},
   "source": [
    "1. Plot Distributions\n",
    "2. Establish Hypotheses\n",
    "    * $H_0$: The means are all equal\n",
    "    * $H_a$: At least 2 groups' means are not equal\n",
    "3. Set alpha\n",
    "4. Verify Assumptions\n",
    "    * Normal Distribution\n",
    "        * `run kruskal-wallis test if non-parametric`\n",
    "    * Sample Size > 30\n",
    "    * Independent Samples?\n",
    "5. Compute t-statistic and p-value (stats.ttest_ind)\n",
    "6. Conclude"
   ]
  },
  {
   "cell_type": "code",
   "execution_count": 21,
   "id": "f75dfd6e",
   "metadata": {},
   "outputs": [],
   "source": [
    "def conclude_anova(theoretical_mean, group1, group2):\n",
    "    α = 0.05\n",
    "    tstat, pval = stats.f_oneway(theoretical_mean, group1, group2)\n",
    "    print(f'stat')\n",
    "    print(tstat)\n",
    "    print(f'P-Value')\n",
    "    print(pval)\n",
    "    print('----')\n",
    "    if pval < α:\n",
    "        print(\"We can reject the null hypothesis.\")\n",
    "    else:\n",
    "        print('We fail to reject the null hypothesis.')"
   ]
  },
  {
   "cell_type": "markdown",
   "id": "090a4794",
   "metadata": {},
   "source": [
    "* # `Correlation`"
   ]
  },
  {
   "attachments": {
    "image.png": {
     "image/png": "[encoded data removed]"
    }
   },
   "cell_type": "markdown",
   "id": "4b38e7d2",
   "metadata": {},
   "source": [
    "![image.png](attachment:image.png)"
   ]
  },
  {
   "cell_type": "markdown",
   "id": "3c7533bd",
   "metadata": {},
   "source": [
    "### Hypothesis Testing Procedure:\n",
    "\n",
    "1. Determine the appropriate test\n",
    "    * what variables you are comparing?\n",
    "        > `continous - continous = correlation`\n",
    "    * are your variables continuous or categorical?\n",
    "2. Setup\n",
    "    * for normal distributions: stats.pearsonr\n",
    "    * for nonparametic test: stats.spearmanr\n",
    "    * set null hypothesis\n",
    "    * $H_0$: \"there is no linear relationship between the two variables\"\n",
    "3. Visualize\n",
    "4. Calculate test statistic + p-value\n",
    "5. Conclude\n"
   ]
  },
  {
   "cell_type": "markdown",
   "id": "f85f9f10",
   "metadata": {},
   "source": [
    "* ## `PEARSON (parametric)`"
   ]
  },
  {
   "cell_type": "code",
   "execution_count": 28,
   "id": "99dba25b",
   "metadata": {},
   "outputs": [],
   "source": [
    "def conclude_pearsonr(floats1, floats2):\n",
    "    α = 0.05\n",
    "    r, p = stats.pearsonr(floats1, floats2)\n",
    "    print('r =', r)\n",
    "    print('p =', p)\n",
    "    print('----')\n",
    "    if p < α:\n",
    "        print(\"We can reject the null hypothesis.\")\n",
    "    else:\n",
    "        print(\"We fail to reject the null hypothesis.\")"
   ]
  },
  {
   "cell_type": "markdown",
   "id": "553e94aa",
   "metadata": {},
   "source": [
    "* ## `SPEARMAN (non-parametric)`"
   ]
  },
  {
   "cell_type": "code",
   "execution_count": 31,
   "id": "8b1bac21",
   "metadata": {},
   "outputs": [],
   "source": [
    "def conclude_spearmanr(floats1, floats2):\n",
    "    α = 0.05\n",
    "    r, p = stats.spearmanr(floats1, floats2)\n",
    "    print('r =', r)\n",
    "    print('p =', p)\n",
    "    print('----')\n",
    "    if p < α:\n",
    "        print(\"We can reject the null hypothesis.\")\n",
    "    else:\n",
    "        print(\"We fail to reject the null hypothesis.\")"
   ]
  },
  {
   "cell_type": "markdown",
   "id": "a0e37450",
   "metadata": {},
   "source": [
    "# `SQL -> Python`"
   ]
  },
  {
   "cell_type": "code",
   "execution_count": 27,
   "id": "6f3ea24c",
   "metadata": {},
   "outputs": [
    {
     "name": "stdout",
     "output_type": "stream",
     "text": [
      "set url equal to function call\n",
      "insert url into pd.read_sql(\"query\", url)\n"
     ]
    }
   ],
   "source": [
    "from env import username, password, host\n",
    "\n",
    "def get_connection(db, user=username, host=host, password=password):\n",
    "    return f'mysql+pymysql://{user}:{password}@{host}/{db}'\n",
    "print(f'set url equal to function call')\n",
    "print(f'insert url into pd.read_sql(\"query\", url)')"
   ]
  },
  {
   "cell_type": "code",
   "execution_count": 24,
   "id": "fb073b59",
   "metadata": {},
   "outputs": [],
   "source": [
    "url = get_connection('employees')"
   ]
  },
  {
   "cell_type": "code",
   "execution_count": 17,
   "id": "50bd9d56",
   "metadata": {
    "scrolled": true
   },
   "outputs": [
    {
     "data": {
      "text/html": [
       "<div>\n",
       "<style scoped>\n",
       "    .dataframe tbody tr th:only-of-type {\n",
       "        vertical-align: middle;\n",
       "    }\n",
       "\n",
       "    .dataframe tbody tr th {\n",
       "        vertical-align: top;\n",
       "    }\n",
       "\n",
       "    .dataframe thead th {\n",
       "        text-align: right;\n",
       "    }\n",
       "</style>\n",
       "<table border=\"1\" class=\"dataframe\">\n",
       "  <thead>\n",
       "    <tr style=\"text-align: right;\">\n",
       "      <th></th>\n",
       "      <th>emp_no</th>\n",
       "      <th>birth_date</th>\n",
       "      <th>first_name</th>\n",
       "      <th>last_name</th>\n",
       "      <th>gender</th>\n",
       "      <th>hire_date</th>\n",
       "    </tr>\n",
       "  </thead>\n",
       "  <tbody>\n",
       "    <tr>\n",
       "      <th>0</th>\n",
       "      <td>10001</td>\n",
       "      <td>1953-09-02</td>\n",
       "      <td>Georgi</td>\n",
       "      <td>Facello</td>\n",
       "      <td>M</td>\n",
       "      <td>1986-06-26</td>\n",
       "    </tr>\n",
       "    <tr>\n",
       "      <th>1</th>\n",
       "      <td>10002</td>\n",
       "      <td>1964-06-02</td>\n",
       "      <td>Bezalel</td>\n",
       "      <td>Simmel</td>\n",
       "      <td>F</td>\n",
       "      <td>1985-11-21</td>\n",
       "    </tr>\n",
       "    <tr>\n",
       "      <th>2</th>\n",
       "      <td>10003</td>\n",
       "      <td>1959-12-03</td>\n",
       "      <td>Parto</td>\n",
       "      <td>Bamford</td>\n",
       "      <td>M</td>\n",
       "      <td>1986-08-28</td>\n",
       "    </tr>\n",
       "    <tr>\n",
       "      <th>3</th>\n",
       "      <td>10004</td>\n",
       "      <td>1954-05-01</td>\n",
       "      <td>Chirstian</td>\n",
       "      <td>Koblick</td>\n",
       "      <td>M</td>\n",
       "      <td>1986-12-01</td>\n",
       "    </tr>\n",
       "    <tr>\n",
       "      <th>4</th>\n",
       "      <td>10005</td>\n",
       "      <td>1955-01-21</td>\n",
       "      <td>Kyoichi</td>\n",
       "      <td>Maliniak</td>\n",
       "      <td>M</td>\n",
       "      <td>1989-09-12</td>\n",
       "    </tr>\n",
       "  </tbody>\n",
       "</table>\n",
       "</div>"
      ],
      "text/plain": [
       "   emp_no  birth_date first_name last_name gender   hire_date\n",
       "0   10001  1953-09-02     Georgi   Facello      M  1986-06-26\n",
       "1   10002  1964-06-02    Bezalel    Simmel      F  1985-11-21\n",
       "2   10003  1959-12-03      Parto   Bamford      M  1986-08-28\n",
       "3   10004  1954-05-01  Chirstian   Koblick      M  1986-12-01\n",
       "4   10005  1955-01-21    Kyoichi  Maliniak      M  1989-09-12"
      ]
     },
     "execution_count": 17,
     "metadata": {},
     "output_type": "execute_result"
    }
   ],
   "source": [
    "emp = pd.read_sql('select * from employees', url)\n",
    "emp.head()"
   ]
  },
  {
   "cell_type": "markdown",
   "id": "725d9bfa",
   "metadata": {},
   "source": [
    "# `TESTING AREA`"
   ]
  },
  {
   "cell_type": "code",
   "execution_count": 19,
   "id": "7370fc67",
   "metadata": {},
   "outputs": [],
   "source": [
    "def new_data(SQL_query, db): # verified!\n",
    "    \"\"\"\n",
    "    This function will:\n",
    "    - take in a SQL query and db\n",
    "    - create a connection url to mySQL\n",
    "    - return a df of the given query and db\n",
    "    \"\"\"\n",
    "    url = env.get_connection(db)  \n",
    "    return pd.read_sql(SQL_query, url)"
   ]
  },
  {
   "cell_type": "code",
   "execution_count": 9,
   "id": "b43e632d",
   "metadata": {
    "collapsed": true
   },
   "outputs": [
    {
     "data": {
      "text/html": [
       "<div>\n",
       "<style scoped>\n",
       "    .dataframe tbody tr th:only-of-type {\n",
       "        vertical-align: middle;\n",
       "    }\n",
       "\n",
       "    .dataframe tbody tr th {\n",
       "        vertical-align: top;\n",
       "    }\n",
       "\n",
       "    .dataframe thead th {\n",
       "        text-align: right;\n",
       "    }\n",
       "</style>\n",
       "<table border=\"1\" class=\"dataframe\">\n",
       "  <thead>\n",
       "    <tr style=\"text-align: right;\">\n",
       "      <th></th>\n",
       "      <th>passenger_id</th>\n",
       "      <th>survived</th>\n",
       "      <th>pclass</th>\n",
       "      <th>sex</th>\n",
       "      <th>age</th>\n",
       "      <th>sibsp</th>\n",
       "      <th>parch</th>\n",
       "      <th>fare</th>\n",
       "      <th>embarked</th>\n",
       "      <th>class</th>\n",
       "      <th>deck</th>\n",
       "      <th>embark_town</th>\n",
       "      <th>alone</th>\n",
       "    </tr>\n",
       "  </thead>\n",
       "  <tbody>\n",
       "    <tr>\n",
       "      <th>0</th>\n",
       "      <td>0</td>\n",
       "      <td>0</td>\n",
       "      <td>3</td>\n",
       "      <td>male</td>\n",
       "      <td>22.0</td>\n",
       "      <td>1</td>\n",
       "      <td>0</td>\n",
       "      <td>7.2500</td>\n",
       "      <td>S</td>\n",
       "      <td>Third</td>\n",
       "      <td>None</td>\n",
       "      <td>Southampton</td>\n",
       "      <td>0</td>\n",
       "    </tr>\n",
       "    <tr>\n",
       "      <th>1</th>\n",
       "      <td>1</td>\n",
       "      <td>1</td>\n",
       "      <td>1</td>\n",
       "      <td>female</td>\n",
       "      <td>38.0</td>\n",
       "      <td>1</td>\n",
       "      <td>0</td>\n",
       "      <td>71.2833</td>\n",
       "      <td>C</td>\n",
       "      <td>First</td>\n",
       "      <td>C</td>\n",
       "      <td>Cherbourg</td>\n",
       "      <td>0</td>\n",
       "    </tr>\n",
       "    <tr>\n",
       "      <th>2</th>\n",
       "      <td>2</td>\n",
       "      <td>1</td>\n",
       "      <td>3</td>\n",
       "      <td>female</td>\n",
       "      <td>26.0</td>\n",
       "      <td>0</td>\n",
       "      <td>0</td>\n",
       "      <td>7.9250</td>\n",
       "      <td>S</td>\n",
       "      <td>Third</td>\n",
       "      <td>None</td>\n",
       "      <td>Southampton</td>\n",
       "      <td>1</td>\n",
       "    </tr>\n",
       "    <tr>\n",
       "      <th>3</th>\n",
       "      <td>3</td>\n",
       "      <td>1</td>\n",
       "      <td>1</td>\n",
       "      <td>female</td>\n",
       "      <td>35.0</td>\n",
       "      <td>1</td>\n",
       "      <td>0</td>\n",
       "      <td>53.1000</td>\n",
       "      <td>S</td>\n",
       "      <td>First</td>\n",
       "      <td>C</td>\n",
       "      <td>Southampton</td>\n",
       "      <td>0</td>\n",
       "    </tr>\n",
       "    <tr>\n",
       "      <th>4</th>\n",
       "      <td>4</td>\n",
       "      <td>0</td>\n",
       "      <td>3</td>\n",
       "      <td>male</td>\n",
       "      <td>35.0</td>\n",
       "      <td>0</td>\n",
       "      <td>0</td>\n",
       "      <td>8.0500</td>\n",
       "      <td>S</td>\n",
       "      <td>Third</td>\n",
       "      <td>None</td>\n",
       "      <td>Southampton</td>\n",
       "      <td>1</td>\n",
       "    </tr>\n",
       "    <tr>\n",
       "      <th>...</th>\n",
       "      <td>...</td>\n",
       "      <td>...</td>\n",
       "      <td>...</td>\n",
       "      <td>...</td>\n",
       "      <td>...</td>\n",
       "      <td>...</td>\n",
       "      <td>...</td>\n",
       "      <td>...</td>\n",
       "      <td>...</td>\n",
       "      <td>...</td>\n",
       "      <td>...</td>\n",
       "      <td>...</td>\n",
       "      <td>...</td>\n",
       "    </tr>\n",
       "    <tr>\n",
       "      <th>886</th>\n",
       "      <td>886</td>\n",
       "      <td>0</td>\n",
       "      <td>2</td>\n",
       "      <td>male</td>\n",
       "      <td>27.0</td>\n",
       "      <td>0</td>\n",
       "      <td>0</td>\n",
       "      <td>13.0000</td>\n",
       "      <td>S</td>\n",
       "      <td>Second</td>\n",
       "      <td>None</td>\n",
       "      <td>Southampton</td>\n",
       "      <td>1</td>\n",
       "    </tr>\n",
       "    <tr>\n",
       "      <th>887</th>\n",
       "      <td>887</td>\n",
       "      <td>1</td>\n",
       "      <td>1</td>\n",
       "      <td>female</td>\n",
       "      <td>19.0</td>\n",
       "      <td>0</td>\n",
       "      <td>0</td>\n",
       "      <td>30.0000</td>\n",
       "      <td>S</td>\n",
       "      <td>First</td>\n",
       "      <td>B</td>\n",
       "      <td>Southampton</td>\n",
       "      <td>1</td>\n",
       "    </tr>\n",
       "    <tr>\n",
       "      <th>888</th>\n",
       "      <td>888</td>\n",
       "      <td>0</td>\n",
       "      <td>3</td>\n",
       "      <td>female</td>\n",
       "      <td>NaN</td>\n",
       "      <td>1</td>\n",
       "      <td>2</td>\n",
       "      <td>23.4500</td>\n",
       "      <td>S</td>\n",
       "      <td>Third</td>\n",
       "      <td>None</td>\n",
       "      <td>Southampton</td>\n",
       "      <td>0</td>\n",
       "    </tr>\n",
       "    <tr>\n",
       "      <th>889</th>\n",
       "      <td>889</td>\n",
       "      <td>1</td>\n",
       "      <td>1</td>\n",
       "      <td>male</td>\n",
       "      <td>26.0</td>\n",
       "      <td>0</td>\n",
       "      <td>0</td>\n",
       "      <td>30.0000</td>\n",
       "      <td>C</td>\n",
       "      <td>First</td>\n",
       "      <td>C</td>\n",
       "      <td>Cherbourg</td>\n",
       "      <td>1</td>\n",
       "    </tr>\n",
       "    <tr>\n",
       "      <th>890</th>\n",
       "      <td>890</td>\n",
       "      <td>0</td>\n",
       "      <td>3</td>\n",
       "      <td>male</td>\n",
       "      <td>32.0</td>\n",
       "      <td>0</td>\n",
       "      <td>0</td>\n",
       "      <td>7.7500</td>\n",
       "      <td>Q</td>\n",
       "      <td>Third</td>\n",
       "      <td>None</td>\n",
       "      <td>Queenstown</td>\n",
       "      <td>1</td>\n",
       "    </tr>\n",
       "  </tbody>\n",
       "</table>\n",
       "<p>891 rows × 13 columns</p>\n",
       "</div>"
      ],
      "text/plain": [
       "     passenger_id  survived  pclass     sex   age  sibsp  parch     fare  \\\n",
       "0               0         0       3    male  22.0      1      0   7.2500   \n",
       "1               1         1       1  female  38.0      1      0  71.2833   \n",
       "2               2         1       3  female  26.0      0      0   7.9250   \n",
       "3               3         1       1  female  35.0      1      0  53.1000   \n",
       "4               4         0       3    male  35.0      0      0   8.0500   \n",
       "..            ...       ...     ...     ...   ...    ...    ...      ...   \n",
       "886           886         0       2    male  27.0      0      0  13.0000   \n",
       "887           887         1       1  female  19.0      0      0  30.0000   \n",
       "888           888         0       3  female   NaN      1      2  23.4500   \n",
       "889           889         1       1    male  26.0      0      0  30.0000   \n",
       "890           890         0       3    male  32.0      0      0   7.7500   \n",
       "\n",
       "    embarked   class  deck  embark_town  alone  \n",
       "0          S   Third  None  Southampton      0  \n",
       "1          C   First     C    Cherbourg      0  \n",
       "2          S   Third  None  Southampton      1  \n",
       "3          S   First     C  Southampton      0  \n",
       "4          S   Third  None  Southampton      1  \n",
       "..       ...     ...   ...          ...    ...  \n",
       "886        S  Second  None  Southampton      1  \n",
       "887        S   First     B  Southampton      1  \n",
       "888        S   Third  None  Southampton      0  \n",
       "889        C   First     C    Cherbourg      1  \n",
       "890        Q   Third  None   Queenstown      1  \n",
       "\n",
       "[891 rows x 13 columns]"
      ]
     },
     "execution_count": 9,
     "metadata": {},
     "output_type": "execute_result"
    }
   ],
   "source": [
    "new_data('select * from passengers', 'titanic_db')"
   ]
  },
  {
   "cell_type": "code",
   "execution_count": 20,
   "id": "69de434c",
   "metadata": {},
   "outputs": [],
   "source": [
    "def get_SQL_data(SQL_query, db, filename):\n",
    "    \"\"\"\n",
    "    This function will:\n",
    "    - Check local directory for csv file\n",
    "        - return if exists\n",
    "    - IF csv does not exist\n",
    "        - create a df of the SQL_query (remember to keep query BROAD)\n",
    "        - write df to csv\n",
    "    - Return df\n",
    "    \"\"\"\n",
    "    if os.path.exists(os.getcwd() + '/filename'):\n",
    "        df = pd.read_csv(filename)\n",
    "        return df\n",
    "    else:\n",
    "        df = new_data(SQL_query, db)\n",
    "        df.to_csv(filename)\n",
    "        return df"
   ]
  },
  {
   "cell_type": "code",
   "execution_count": null,
   "id": "0877cb96",
   "metadata": {},
   "outputs": [],
   "source": []
  }
 ],
 "metadata": {
  "kernelspec": {
   "display_name": "Python 3 (ipykernel)",
   "language": "python",
   "name": "python3"
  },
  "language_info": {
   "codemirror_mode": {
    "name": "ipython",
    "version": 3
   },
   "file_extension": ".py",
   "mimetype": "text/x-python",
   "name": "python",
   "nbconvert_exporter": "python",
   "pygments_lexer": "ipython3",
   "version": "3.9.13"
  }
 },
 "nbformat": 4,
 "nbformat_minor": 5
}
