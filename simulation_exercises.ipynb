{
 "cells": [
  {
   "cell_type": "markdown",
   "id": "d72f6639",
   "metadata": {},
   "source": [
    "How likely is it that you roll doubles when rolling two dice?"
   ]
  },
  {
   "cell_type": "code",
   "execution_count": 87,
   "id": "068ebe0a",
   "metadata": {},
   "outputs": [],
   "source": [
    "%matplotlib inline\n",
    "import numpy as np\n",
    "import pandas as pd\n",
    "from scipy import stats\n",
    "np.random.seed(29)"
   ]
  },
  {
   "cell_type": "code",
   "execution_count": 46,
   "id": "0da16aa6",
   "metadata": {},
   "outputs": [
    {
     "data": {
      "text/plain": [
       "0.16701"
      ]
     },
     "execution_count": 46,
     "metadata": {},
     "output_type": "execute_result"
    }
   ],
   "source": [
    "outcomes = [1,2,3,4,5,6]\n",
    "n_dice = 2\n",
    "n_simulations = 100_000\n",
    "\n",
    "rolls = np.random.choice(outcomes,(n_simulations, n_dice))\n",
    "\n",
    "doubles = (rolls[:,0] == rolls[:,1]).mean()\n",
    "doubles"
   ]
  },
  {
   "cell_type": "code",
   "execution_count": 42,
   "id": "0bfe8d5a",
   "metadata": {},
   "outputs": [
    {
     "data": {
      "text/plain": [
       "array([[3, 3],\n",
       "       [4, 5],\n",
       "       [3, 2],\n",
       "       ...,\n",
       "       [3, 4],\n",
       "       [5, 5],\n",
       "       [5, 4]])"
      ]
     },
     "execution_count": 42,
     "metadata": {},
     "output_type": "execute_result"
    }
   ],
   "source": [
    "rolls = np.random.choice(outcomes,(n_simulations, n_dice))\n",
    "rolls"
   ]
  },
  {
   "cell_type": "code",
   "execution_count": 43,
   "id": "bf4f0344",
   "metadata": {},
   "outputs": [],
   "source": [
    "doubles = (rolls[:,0] == rolls[:,1]).mean()"
   ]
  },
  {
   "cell_type": "code",
   "execution_count": 44,
   "id": "2d5e864a",
   "metadata": {},
   "outputs": [
    {
     "data": {
      "text/plain": [
       "0.16633"
      ]
     },
     "execution_count": 44,
     "metadata": {},
     "output_type": "execute_result"
    }
   ],
   "source": [
    "doubles"
   ]
  },
  {
   "cell_type": "markdown",
   "id": "20a00f78",
   "metadata": {},
   "source": [
    "Men have an average height of 178 cm and standard deviation of 8cm.\n",
    "Women have a mean of 170, sd = 6cm.\n",
    "Since you have means and standard deviations, you can use np.random.normal to generate observations.\n",
    "If a man and woman are chosen at random, what is the likelihood the woman is taller than the man?"
   ]
  },
  {
   "cell_type": "code",
   "execution_count": 51,
   "id": "d8ad485d",
   "metadata": {},
   "outputs": [],
   "source": [
    "men_avg = 178\n",
    "men_std = 8\n",
    "women_avg = 170\n",
    "women_std = 6\n",
    "\n",
    "#men random observation\n",
    "male = np.random.normal(men_avg, men_std)"
   ]
  },
  {
   "cell_type": "code",
   "execution_count": 52,
   "id": "291decf6",
   "metadata": {},
   "outputs": [],
   "source": [
    "#women random observation\n",
    "female = np.random.normal(women_avg, women_std)"
   ]
  },
  {
   "cell_type": "code",
   "execution_count": 76,
   "id": "3e6667ce",
   "metadata": {},
   "outputs": [
    {
     "data": {
      "text/plain": [
       "False"
      ]
     },
     "execution_count": 76,
     "metadata": {},
     "output_type": "execute_result"
    }
   ],
   "source": [
    "height = (male < female)\n",
    "height"
   ]
  },
  {
   "cell_type": "code",
   "execution_count": 75,
   "id": "1985cd45",
   "metadata": {},
   "outputs": [
    {
     "data": {
      "text/plain": [
       "[181.0100049673415, 173.1643168847998]"
      ]
     },
     "execution_count": 75,
     "metadata": {},
     "output_type": "execute_result"
    }
   ],
   "source": [
    "observations = [male, female]\n",
    "observations"
   ]
  },
  {
   "cell_type": "code",
   "execution_count": null,
   "id": "a6df8bf8",
   "metadata": {},
   "outputs": [],
   "source": []
  },
  {
   "cell_type": "code",
   "execution_count": null,
   "id": "a990d617",
   "metadata": {},
   "outputs": [],
   "source": []
  },
  {
   "cell_type": "code",
   "execution_count": null,
   "id": "304ff516",
   "metadata": {},
   "outputs": [],
   "source": []
  },
  {
   "cell_type": "code",
   "execution_count": null,
   "id": "da095362",
   "metadata": {},
   "outputs": [],
   "source": []
  },
  {
   "cell_type": "code",
   "execution_count": null,
   "id": "6a7a2b52",
   "metadata": {},
   "outputs": [],
   "source": []
  },
  {
   "cell_type": "code",
   "execution_count": null,
   "id": "64f64d22",
   "metadata": {},
   "outputs": [],
   "source": []
  },
  {
   "cell_type": "code",
   "execution_count": null,
   "id": "da32dde6",
   "metadata": {},
   "outputs": [],
   "source": []
  },
  {
   "cell_type": "code",
   "execution_count": null,
   "id": "e13c27b1",
   "metadata": {},
   "outputs": [],
   "source": []
  },
  {
   "cell_type": "code",
   "execution_count": null,
   "id": "cb76de5d",
   "metadata": {},
   "outputs": [],
   "source": []
  },
  {
   "cell_type": "code",
   "execution_count": null,
   "id": "d46baeb0",
   "metadata": {},
   "outputs": [],
   "source": []
  },
  {
   "cell_type": "code",
   "execution_count": null,
   "id": "81deea98",
   "metadata": {},
   "outputs": [],
   "source": []
  },
  {
   "cell_type": "code",
   "execution_count": null,
   "id": "ec9bedcd",
   "metadata": {},
   "outputs": [],
   "source": []
  },
  {
   "cell_type": "code",
   "execution_count": null,
   "id": "5532e1b4",
   "metadata": {},
   "outputs": [],
   "source": []
  },
  {
   "cell_type": "code",
   "execution_count": null,
   "id": "9a628402",
   "metadata": {},
   "outputs": [],
   "source": []
  },
  {
   "cell_type": "code",
   "execution_count": null,
   "id": "9b6bbd6c",
   "metadata": {},
   "outputs": [],
   "source": []
  },
  {
   "cell_type": "markdown",
   "id": "a0462fed",
   "metadata": {},
   "source": [
    "Mini Exercise:"
   ]
  },
  {
   "cell_type": "code",
   "execution_count": 86,
   "id": "a5913a11",
   "metadata": {},
   "outputs": [],
   "source": [
    "bat_life = 14\n",
    "bat_sd = 1.5"
   ]
  },
  {
   "cell_type": "markdown",
   "id": "2bd45b4f",
   "metadata": {},
   "source": [
    "# 1"
   ]
  },
  {
   "cell_type": "markdown",
   "id": "cb66e212",
   "metadata": {},
   "source": [
    "Normal"
   ]
  },
  {
   "cell_type": "markdown",
   "id": "db1eb719",
   "metadata": {},
   "source": [
    "14 hours and 1.5 standard deviation"
   ]
  },
  {
   "cell_type": "markdown",
   "id": "fcd8a8dd",
   "metadata": {},
   "source": [
    "Create scipy"
   ]
  },
  {
   "cell_type": "code",
   "execution_count": 89,
   "id": "2f445b5f",
   "metadata": {},
   "outputs": [],
   "source": [
    "bat_norm = stats.norm(bat_life, bat_sd)"
   ]
  },
  {
   "cell_type": "markdown",
   "id": "ab183cbd",
   "metadata": {},
   "source": [
    "a"
   ]
  },
  {
   "cell_type": "code",
   "execution_count": 91,
   "id": "6e768745",
   "metadata": {},
   "outputs": [
    {
     "data": {
      "text/plain": [
       "9.121121972586788"
      ]
     },
     "execution_count": 91,
     "metadata": {},
     "output_type": "execute_result"
    }
   ],
   "source": [
    "bat_norm.sf(16)*100"
   ]
  },
  {
   "cell_type": "markdown",
   "id": "150cfb60",
   "metadata": {},
   "source": [
    "b"
   ]
  },
  {
   "cell_type": "code",
   "execution_count": 92,
   "id": "3c9a79d5",
   "metadata": {},
   "outputs": [
    {
     "data": {
      "text/plain": [
       "10.934004978399576"
      ]
     },
     "execution_count": 92,
     "metadata": {},
     "output_type": "execute_result"
    }
   ],
   "source": [
    "bat_norm.pdf(12)*100"
   ]
  },
  {
   "cell_type": "markdown",
   "id": "3ba0f824",
   "metadata": {},
   "source": [
    "c"
   ]
  },
  {
   "cell_type": "code",
   "execution_count": 96,
   "id": "373da945",
   "metadata": {},
   "outputs": [
    {
     "data": {
      "text/plain": [
       "9.121121972586788"
      ]
     },
     "execution_count": 96,
     "metadata": {},
     "output_type": "execute_result"
    }
   ],
   "source": [
    "bat_norm.cdf(12)*100"
   ]
  },
  {
   "cell_type": "markdown",
   "id": "5b938874",
   "metadata": {},
   "source": [
    "d"
   ]
  },
  {
   "cell_type": "code",
   "execution_count": 94,
   "id": "3e2717b4",
   "metadata": {},
   "outputs": [
    {
     "data": {
      "text/plain": [
       "15.011734625294123"
      ]
     },
     "execution_count": 94,
     "metadata": {},
     "output_type": "execute_result"
    }
   ],
   "source": [
    "bat_norm.isf(.25)"
   ]
  }
 ],
 "metadata": {
  "kernelspec": {
   "display_name": "Python 3 (ipykernel)",
   "language": "python",
   "name": "python3"
  },
  "language_info": {
   "codemirror_mode": {
    "name": "ipython",
    "version": 3
   },
   "file_extension": ".py",
   "mimetype": "text/x-python",
   "name": "python",
   "nbconvert_exporter": "python",
   "pygments_lexer": "ipython3",
   "version": "3.9.13"
  }
 },
 "nbformat": 4,
 "nbformat_minor": 5
}
