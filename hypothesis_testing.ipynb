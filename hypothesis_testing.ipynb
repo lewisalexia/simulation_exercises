{
 "cells": [
  {
   "cell_type": "code",
   "execution_count": 1,
   "id": "525009d2",
   "metadata": {},
   "outputs": [],
   "source": [
    "import numpy as np\n",
    "import seaborn as sns\n",
    "import scipy.stats as stats\n",
    "import pandas as pd\n",
    "import matplotlib.pyplot as plt"
   ]
  },
  {
   "cell_type": "markdown",
   "id": "34bbf997",
   "metadata": {},
   "source": [
    "For each of the following questions, formulate a null and alternative hypothesis (be as specific as you can be), then give an example of what a true positive, true negative, type I and type II errors would look like. Note that some of the questions are intentionally phrased in a vague way. It is your job to reword these as more precise questions that could be tested.\n",
    "\n",
    "`\n",
    "Has the network latency gone up since we switched internet service providers?\n",
    "Is the website redesign any good?\n",
    "Is our television ad driving more sales?\n",
    "`\n"
   ]
  },
  {
   "cell_type": "markdown",
   "id": "dda11a37",
   "metadata": {},
   "source": [
    "Has switching providers increased latency in the network?\n",
    "\n",
    "* H0: Switching providers did not increase latency.   \n",
    "    * Type 1: (boy is alive, no wolf, people came). False positive/The p-value is < alpha indicating low confidence and resulting a false positive.\n",
    "* HA: We are 95% confident that switching providers has increased latency in our network.\n",
    "    * Type 2: (boy is dead, wolf is present, people don't come). False negative/The p-value is > (?) alpha indicating over confidence that switching providers caused the latency. Latency problem still exists outside of this sample!"
   ]
  },
  {
   "cell_type": "markdown",
   "id": "21acce71",
   "metadata": {},
   "source": [
    "Has redesigning the website lead to increased _measurable (efficiency, UI, speed)_ in place of 'good'?\n",
    "\n",
    "* H0: Redesigning the website has not improved _measurable_.\n",
    "    * Type 1: (False Positive). The sample data grabbed provided false confidence that the site redesign/_measurable_ relationship is valid.\n",
    "\n",
    "* HA: Redesigning the website has improved _measurable_.\n",
    "    * Type 2: (False Negative). The sample data grabbed provided a false LACK of confidence that the relationship between site redesign and _measurable_ value is significant."
   ]
  },
  {
   "cell_type": "markdown",
   "id": "6ae1c460",
   "metadata": {},
   "source": [
    "Has the television ad increased sales?\n",
    "\n",
    "* H0: Television ad does not increase sales.\n",
    "    * Type 1: (False Positive). Relationship between increased sales and television ad is deemed significant when it is in fact, weak.\n",
    "\n",
    "* HA: The television ad did increase sales.\n",
    "    * Type 2: (False Negative). The relationship between the ad and sales is deemed insignificant; when it is, in fact, significant. Boy is dead. Wolf is present. People don't come to help."
   ]
  },
  {
   "cell_type": "markdown",
   "id": "911aade9",
   "metadata": {},
   "source": [
    "# Comparison of Means"
   ]
  },
  {
   "cell_type": "markdown",
   "id": "0839fe9e",
   "metadata": {},
   "source": [
    "Answer with the type of test you would use (assume normal distribution):\n",
    "\n",
    "* Is there a difference in grades of students on the second floor compared to grades of all students?\n",
    "\n",
    "    `* Bubble in a bubble, one-sample two-tailed test`\n",
    "    \n",
    "* Are adults who drink milk taller than adults who dont drink milk?\n",
    "\n",
    "    `* Two bubbles, independent (can't be both), greater than for height: I would use a two-sample one-tailed test`\n",
    "    \n",
    "* Is the the price of gas higher in texas or in new mexico?\n",
    "\n",
    "    `* Two bubbles, two-sample one-tailed test`\n",
    "    \n",
    "* Are there differences in stress levels between students who take data science vs students who take web development vs students who take cloud academy?\n",
    "\n",
    "    `* More than 2 groups, ANOVA. two-tailed ANOVA test to determine IF there is a difference`"
   ]
  },
  {
   "cell_type": "markdown",
   "id": "77fd7007",
   "metadata": {},
   "source": [
    "Ace Realty wants to determine whether the average time it takes to sell homes is different for its two offices. A sample of 40 sales from office #1 revealed a mean of 90 days and a standard deviation of 15 days. A sample of 50 sales from office #2 revealed a mean of 100 days and a standard deviation of 20 days. Use a .05 level of significance."
   ]
  },
  {
   "cell_type": "code",
   "execution_count": 199,
   "id": "7f85f482",
   "metadata": {},
   "outputs": [],
   "source": [
    "office1_m = 90\n",
    "office1_sd = 15\n",
    "office2_m = 100\n",
    "office2_sd = 20\n",
    "alpha = 0.05\n",
    "n1=40\n",
    "n2=50"
   ]
  },
  {
   "cell_type": "code",
   "execution_count": 200,
   "id": "6d067680",
   "metadata": {},
   "outputs": [],
   "source": [
    "df1 = pd.DataFrame(np.random.normal(office1_m, office1_sd, size=n1))\n",
    "df2 = pd.DataFrame(np.random.normal(office2_m, office2_sd, size=n2))"
   ]
  },
  {
   "cell_type": "code",
   "execution_count": 201,
   "id": "e68c6447",
   "metadata": {},
   "outputs": [
    {
     "data": {
      "image/png": "[encoded data removed]",
      "text/plain": [
       "<Figure size 640x480 with 1 Axes>"
      ]
     },
     "metadata": {},
     "output_type": "display_data"
    }
   ],
   "source": [
    "plt.hist(df1)\n",
    "plt.show()"
   ]
  },
  {
   "cell_type": "code",
   "execution_count": 202,
   "id": "1edcd369",
   "metadata": {},
   "outputs": [
    {
     "data": {
      "image/png": "[encoded data removed]",
      "text/plain": [
       "<Figure size 640x480 with 1 Axes>"
      ]
     },
     "metadata": {},
     "output_type": "display_data"
    }
   ],
   "source": [
    "plt.hist(df2)\n",
    "plt.show()"
   ]
  },
  {
   "cell_type": "markdown",
   "id": "18416165",
   "metadata": {},
   "source": [
    "$H_{0}$ : There is not a difference in the average sale time between office 1 and office 2.\n",
    "\n",
    "$H_{a}$ : There is a difference in the average sale time between office 1 and office 2."
   ]
  },
  {
   "cell_type": "markdown",
   "id": "761972ce",
   "metadata": {},
   "source": [
    "Assumptions: Not normal, 40 observations (low but valid)"
   ]
  },
  {
   "cell_type": "code",
   "execution_count": 217,
   "id": "0ce477b5",
   "metadata": {},
   "outputs": [
    {
     "data": {
      "text/plain": [
       "(0    194.277897\n",
       " dtype: float64,\n",
       " 0    312.34006\n",
       " dtype: float64)"
      ]
     },
     "execution_count": 217,
     "metadata": {},
     "output_type": "execute_result"
    }
   ],
   "source": [
    "df1.var(), df2.var()"
   ]
  },
  {
   "cell_type": "code",
   "execution_count": 203,
   "id": "646fd544",
   "metadata": {},
   "outputs": [
    {
     "data": {
      "text/plain": [
       "(array([-2.43669174]), array([0.01683624]))"
      ]
     },
     "execution_count": 203,
     "metadata": {},
     "output_type": "execute_result"
    }
   ],
   "source": [
    "tstat, pval = stats.ttest_ind(df1, df2)\n",
    "tstat, pval"
   ]
  },
  {
   "cell_type": "markdown",
   "id": "cd739e8c",
   "metadata": {},
   "source": [
    "Difference significant, reject the null hypothesis"
   ]
  },
  {
   "cell_type": "markdown",
   "id": "2773e579",
   "metadata": {},
   "source": [
    "## Andrew's Way"
   ]
  },
  {
   "cell_type": "code",
   "execution_count": 198,
   "id": "848d0533",
   "metadata": {},
   "outputs": [
    {
     "data": {
      "image/png": "[encoded data removed]",
      "text/plain": [
       "<Figure size 900x600 with 1 Axes>"
      ]
     },
     "metadata": {},
     "output_type": "display_data"
    }
   ],
   "source": [
    "x = np.arange(50,150)\n",
    "\n",
    "y1 = stats.norm(90, 15).pdf(x)\n",
    "y2 = stats.norm(100, 20).pdf(x)\n",
    "\n",
    "plt.figure(figsize = (9,6))\n",
    "plt.plot(x, y1, label = 'office 1')\n",
    "plt.plot(x, y2, label = 'office 2')\n",
    "plt.legend()\n",
    "plt.show()"
   ]
  },
  {
   "cell_type": "code",
   "execution_count": 207,
   "id": "f160ee1b",
   "metadata": {},
   "outputs": [],
   "source": [
    "office_1 = stats.norm(90, 15).rvs(40)\n",
    "office_2 = stats.norm(100, 20).rvs(50)"
   ]
  },
  {
   "cell_type": "code",
   "execution_count": 209,
   "id": "3da5202b",
   "metadata": {},
   "outputs": [],
   "source": [
    "alpha = 0.05"
   ]
  },
  {
   "cell_type": "code",
   "execution_count": 210,
   "id": "7f51c255",
   "metadata": {},
   "outputs": [
    {
     "data": {
      "text/plain": [
       "(4.102881044795635, 0.04583970992058288)"
      ]
     },
     "execution_count": 210,
     "metadata": {},
     "output_type": "execute_result"
    }
   ],
   "source": [
    "stat, pval = stats.levene(office_1, office_2)\n",
    "stat, pval"
   ]
  },
  {
   "cell_type": "code",
   "execution_count": 211,
   "id": "4342551a",
   "metadata": {},
   "outputs": [
    {
     "data": {
      "text/plain": [
       "(-2.024085067738832, 0.04602940643130389)"
      ]
     },
     "execution_count": 211,
     "metadata": {},
     "output_type": "execute_result"
    }
   ],
   "source": [
    "tstat, pval = stats.ttest_ind(office_1, office_2, equal_var=False)\n",
    "tstat, pval"
   ]
  },
  {
   "cell_type": "code",
   "execution_count": 212,
   "id": "aa8c01b3",
   "metadata": {},
   "outputs": [
    {
     "name": "stdout",
     "output_type": "stream",
     "text": [
      "Reject the Null\n"
     ]
    }
   ],
   "source": [
    "if pval < alpha:\n",
    "    print('Reject the Null')\n",
    "else:\n",
    "    print('Fail to Reject the Null')"
   ]
  },
  {
   "cell_type": "markdown",
   "id": "55ae9b7b",
   "metadata": {},
   "source": [
    "Barely significant result, can reject the null hypothesis"
   ]
  },
  {
   "cell_type": "markdown",
   "id": "4cb63dbd",
   "metadata": {},
   "source": [
    "## IND_FROM_STATS"
   ]
  },
  {
   "cell_type": "code",
   "execution_count": 220,
   "id": "7326e3ee",
   "metadata": {},
   "outputs": [
    {
     "data": {
      "text/plain": [
       "Ttest_indResult(statistic=-2.7091418459143854, pvalue=0.00811206270346016)"
      ]
     },
     "execution_count": 220,
     "metadata": {},
     "output_type": "execute_result"
    }
   ],
   "source": [
    "# only works for two different datasets where you don't have the \n",
    "# data to back it up, just the mean, sd, and sample size\n",
    "stats.ttest_ind_from_stats(90,15,40,100,20,50, equal_var=False)"
   ]
  },
  {
   "cell_type": "markdown",
   "id": "a55a596d",
   "metadata": {},
   "source": [
    "Significant, reject the null"
   ]
  },
  {
   "cell_type": "markdown",
   "id": "d1fb5383",
   "metadata": {},
   "source": [
    "## MPG"
   ]
  },
  {
   "cell_type": "markdown",
   "id": "bd99bcbf",
   "metadata": {},
   "source": [
    "Load the mpg dataset and use it to answer the following questions:\n",
    "\n",
    "* Is there a difference in fuel-efficiency in cars from 2008 vs 1999?\n",
    "\n",
    "    * two tail, two sample"
   ]
  },
  {
   "cell_type": "markdown",
   "id": "3e081ee6",
   "metadata": {},
   "source": [
    "$H_{0}$ = There is no difference in efficiency in cars from 2008 vs 1999\n",
    "\n",
    "$H_{a}$ = There is a difference in efficiency in cars from 2008 vs 1999\n"
   ]
  },
  {
   "cell_type": "markdown",
   "id": "cd33d9d6",
   "metadata": {},
   "source": [
    "There are different types of mean!\n",
    "\n",
    "Arithmatic Mean : The one we know and love\n",
    "\n",
    "Harmonic Mean : Things over time, something over a duration, miles per hour (stats.hemean())\n",
    "\n",
    "Geometric Mean : ??"
   ]
  },
  {
   "cell_type": "code",
   "execution_count": 49,
   "id": "ff02c0c8",
   "metadata": {},
   "outputs": [
    {
     "data": {
      "text/html": [
       "<div>\n",
       "<style scoped>\n",
       "    .dataframe tbody tr th:only-of-type {\n",
       "        vertical-align: middle;\n",
       "    }\n",
       "\n",
       "    .dataframe tbody tr th {\n",
       "        vertical-align: top;\n",
       "    }\n",
       "\n",
       "    .dataframe thead th {\n",
       "        text-align: right;\n",
       "    }\n",
       "</style>\n",
       "<table border=\"1\" class=\"dataframe\">\n",
       "  <thead>\n",
       "    <tr style=\"text-align: right;\">\n",
       "      <th></th>\n",
       "      <th>manufacturer</th>\n",
       "      <th>model</th>\n",
       "      <th>displ</th>\n",
       "      <th>year</th>\n",
       "      <th>cyl</th>\n",
       "      <th>trans</th>\n",
       "      <th>drv</th>\n",
       "      <th>cty</th>\n",
       "      <th>hwy</th>\n",
       "      <th>fl</th>\n",
       "      <th>class</th>\n",
       "    </tr>\n",
       "  </thead>\n",
       "  <tbody>\n",
       "    <tr>\n",
       "      <th>1</th>\n",
       "      <td>audi</td>\n",
       "      <td>a4</td>\n",
       "      <td>1.8</td>\n",
       "      <td>1999</td>\n",
       "      <td>4</td>\n",
       "      <td>auto(l5)</td>\n",
       "      <td>f</td>\n",
       "      <td>18</td>\n",
       "      <td>29</td>\n",
       "      <td>p</td>\n",
       "      <td>compact</td>\n",
       "    </tr>\n",
       "    <tr>\n",
       "      <th>2</th>\n",
       "      <td>audi</td>\n",
       "      <td>a4</td>\n",
       "      <td>1.8</td>\n",
       "      <td>1999</td>\n",
       "      <td>4</td>\n",
       "      <td>manual(m5)</td>\n",
       "      <td>f</td>\n",
       "      <td>21</td>\n",
       "      <td>29</td>\n",
       "      <td>p</td>\n",
       "      <td>compact</td>\n",
       "    </tr>\n",
       "    <tr>\n",
       "      <th>3</th>\n",
       "      <td>audi</td>\n",
       "      <td>a4</td>\n",
       "      <td>2.0</td>\n",
       "      <td>2008</td>\n",
       "      <td>4</td>\n",
       "      <td>manual(m6)</td>\n",
       "      <td>f</td>\n",
       "      <td>20</td>\n",
       "      <td>31</td>\n",
       "      <td>p</td>\n",
       "      <td>compact</td>\n",
       "    </tr>\n",
       "    <tr>\n",
       "      <th>4</th>\n",
       "      <td>audi</td>\n",
       "      <td>a4</td>\n",
       "      <td>2.0</td>\n",
       "      <td>2008</td>\n",
       "      <td>4</td>\n",
       "      <td>auto(av)</td>\n",
       "      <td>f</td>\n",
       "      <td>21</td>\n",
       "      <td>30</td>\n",
       "      <td>p</td>\n",
       "      <td>compact</td>\n",
       "    </tr>\n",
       "    <tr>\n",
       "      <th>5</th>\n",
       "      <td>audi</td>\n",
       "      <td>a4</td>\n",
       "      <td>2.8</td>\n",
       "      <td>1999</td>\n",
       "      <td>6</td>\n",
       "      <td>auto(l5)</td>\n",
       "      <td>f</td>\n",
       "      <td>16</td>\n",
       "      <td>26</td>\n",
       "      <td>p</td>\n",
       "      <td>compact</td>\n",
       "    </tr>\n",
       "  </tbody>\n",
       "</table>\n",
       "</div>"
      ],
      "text/plain": [
       "  manufacturer model  displ  year  cyl       trans drv  cty  hwy fl    class\n",
       "1         audi    a4    1.8  1999    4    auto(l5)   f   18   29  p  compact\n",
       "2         audi    a4    1.8  1999    4  manual(m5)   f   21   29  p  compact\n",
       "3         audi    a4    2.0  2008    4  manual(m6)   f   20   31  p  compact\n",
       "4         audi    a4    2.0  2008    4    auto(av)   f   21   30  p  compact\n",
       "5         audi    a4    2.8  1999    6    auto(l5)   f   16   26  p  compact"
      ]
     },
     "execution_count": 49,
     "metadata": {},
     "output_type": "execute_result"
    }
   ],
   "source": [
    "from pydataset import data\n",
    "mpg = data('mpg')\n",
    "mpg.head()"
   ]
  },
  {
   "cell_type": "code",
   "execution_count": 72,
   "id": "d00bdae1",
   "metadata": {},
   "outputs": [
    {
     "data": {
      "text/plain": [
       "1999    117\n",
       "2008    117\n",
       "Name: year, dtype: int64"
      ]
     },
     "execution_count": 72,
     "metadata": {},
     "output_type": "execute_result"
    }
   ],
   "source": [
    "mpg.year.value_counts()"
   ]
  },
  {
   "cell_type": "code",
   "execution_count": 222,
   "id": "41b447fb",
   "metadata": {},
   "outputs": [],
   "source": [
    "mpg['avg_mileage'] = stats.hmean(mpg[['cty', 'hwy']], axis = 1)"
   ]
  },
  {
   "cell_type": "code",
   "execution_count": 224,
   "id": "b8d9b0ce",
   "metadata": {},
   "outputs": [
    {
     "data": {
      "text/html": [
       "<div>\n",
       "<style scoped>\n",
       "    .dataframe tbody tr th:only-of-type {\n",
       "        vertical-align: middle;\n",
       "    }\n",
       "\n",
       "    .dataframe tbody tr th {\n",
       "        vertical-align: top;\n",
       "    }\n",
       "\n",
       "    .dataframe thead th {\n",
       "        text-align: right;\n",
       "    }\n",
       "</style>\n",
       "<table border=\"1\" class=\"dataframe\">\n",
       "  <thead>\n",
       "    <tr style=\"text-align: right;\">\n",
       "      <th></th>\n",
       "      <th>manufacturer</th>\n",
       "      <th>model</th>\n",
       "      <th>displ</th>\n",
       "      <th>year</th>\n",
       "      <th>cyl</th>\n",
       "      <th>trans</th>\n",
       "      <th>drv</th>\n",
       "      <th>cty</th>\n",
       "      <th>hwy</th>\n",
       "      <th>fl</th>\n",
       "      <th>class</th>\n",
       "      <th>avg_mileage</th>\n",
       "    </tr>\n",
       "  </thead>\n",
       "  <tbody>\n",
       "    <tr>\n",
       "      <th>1</th>\n",
       "      <td>audi</td>\n",
       "      <td>a4</td>\n",
       "      <td>1.8</td>\n",
       "      <td>1999</td>\n",
       "      <td>4</td>\n",
       "      <td>auto(l5)</td>\n",
       "      <td>f</td>\n",
       "      <td>18</td>\n",
       "      <td>29</td>\n",
       "      <td>p</td>\n",
       "      <td>compact</td>\n",
       "      <td>22.212766</td>\n",
       "    </tr>\n",
       "    <tr>\n",
       "      <th>2</th>\n",
       "      <td>audi</td>\n",
       "      <td>a4</td>\n",
       "      <td>1.8</td>\n",
       "      <td>1999</td>\n",
       "      <td>4</td>\n",
       "      <td>manual(m5)</td>\n",
       "      <td>f</td>\n",
       "      <td>21</td>\n",
       "      <td>29</td>\n",
       "      <td>p</td>\n",
       "      <td>compact</td>\n",
       "      <td>24.360000</td>\n",
       "    </tr>\n",
       "    <tr>\n",
       "      <th>3</th>\n",
       "      <td>audi</td>\n",
       "      <td>a4</td>\n",
       "      <td>2.0</td>\n",
       "      <td>2008</td>\n",
       "      <td>4</td>\n",
       "      <td>manual(m6)</td>\n",
       "      <td>f</td>\n",
       "      <td>20</td>\n",
       "      <td>31</td>\n",
       "      <td>p</td>\n",
       "      <td>compact</td>\n",
       "      <td>24.313725</td>\n",
       "    </tr>\n",
       "    <tr>\n",
       "      <th>4</th>\n",
       "      <td>audi</td>\n",
       "      <td>a4</td>\n",
       "      <td>2.0</td>\n",
       "      <td>2008</td>\n",
       "      <td>4</td>\n",
       "      <td>auto(av)</td>\n",
       "      <td>f</td>\n",
       "      <td>21</td>\n",
       "      <td>30</td>\n",
       "      <td>p</td>\n",
       "      <td>compact</td>\n",
       "      <td>24.705882</td>\n",
       "    </tr>\n",
       "    <tr>\n",
       "      <th>5</th>\n",
       "      <td>audi</td>\n",
       "      <td>a4</td>\n",
       "      <td>2.8</td>\n",
       "      <td>1999</td>\n",
       "      <td>6</td>\n",
       "      <td>auto(l5)</td>\n",
       "      <td>f</td>\n",
       "      <td>16</td>\n",
       "      <td>26</td>\n",
       "      <td>p</td>\n",
       "      <td>compact</td>\n",
       "      <td>19.809524</td>\n",
       "    </tr>\n",
       "  </tbody>\n",
       "</table>\n",
       "</div>"
      ],
      "text/plain": [
       "  manufacturer model  displ  year  cyl       trans drv  cty  hwy fl    class  \\\n",
       "1         audi    a4    1.8  1999    4    auto(l5)   f   18   29  p  compact   \n",
       "2         audi    a4    1.8  1999    4  manual(m5)   f   21   29  p  compact   \n",
       "3         audi    a4    2.0  2008    4  manual(m6)   f   20   31  p  compact   \n",
       "4         audi    a4    2.0  2008    4    auto(av)   f   21   30  p  compact   \n",
       "5         audi    a4    2.8  1999    6    auto(l5)   f   16   26  p  compact   \n",
       "\n",
       "   avg_mileage  \n",
       "1    22.212766  \n",
       "2    24.360000  \n",
       "3    24.313725  \n",
       "4    24.705882  \n",
       "5    19.809524  "
      ]
     },
     "execution_count": 224,
     "metadata": {},
     "output_type": "execute_result"
    }
   ],
   "source": [
    "mpg.head()"
   ]
  },
  {
   "cell_type": "code",
   "execution_count": 232,
   "id": "8cfb0b8d",
   "metadata": {},
   "outputs": [
    {
     "data": {
      "text/plain": [
       "1      22.212766\n",
       "2      24.360000\n",
       "3      24.313725\n",
       "4      24.705882\n",
       "5      19.809524\n",
       "         ...    \n",
       "230    22.638298\n",
       "231    24.360000\n",
       "232    19.809524\n",
       "233    21.272727\n",
       "234    20.558140\n",
       "Name: avg_mileage, Length: 234, dtype: float64"
      ]
     },
     "execution_count": 232,
     "metadata": {},
     "output_type": "execute_result"
    }
   ],
   "source": [
    "theoretical_mean = mpg.avg_mileage\n",
    "theoretical_mean"
   ]
  },
  {
   "cell_type": "code",
   "execution_count": 233,
   "id": "8bc81158",
   "metadata": {},
   "outputs": [
    {
     "data": {
      "image/png": "[encoded data removed]",
      "text/plain": [
       "<Figure size 640x480 with 1 Axes>"
      ]
     },
     "metadata": {},
     "output_type": "display_data"
    }
   ],
   "source": [
    "avg_08 = mpg[mpg.year == 2008].avg_mileage\n",
    "avg_08.hist()\n",
    "plt.show()"
   ]
  },
  {
   "cell_type": "code",
   "execution_count": 234,
   "id": "f38f8cac",
   "metadata": {},
   "outputs": [
    {
     "data": {
      "image/png": "[encoded data removed]",
      "text/plain": [
       "<Figure size 640x480 with 1 Axes>"
      ]
     },
     "metadata": {},
     "output_type": "display_data"
    }
   ],
   "source": [
    "avg_99 = mpg[mpg.year == 1999].avg_mileage\n",
    "avg_99.hist()\n",
    "plt.show()"
   ]
  },
  {
   "cell_type": "markdown",
   "id": "c2701bfd",
   "metadata": {},
   "source": [
    "### Variance True?"
   ]
  },
  {
   "cell_type": "code",
   "execution_count": 235,
   "id": "295c66ac",
   "metadata": {},
   "outputs": [
    {
     "data": {
      "text/plain": [
       "LeveneResult(statistic=0.031071867429515194, pvalue=0.8602339200830025)"
      ]
     },
     "execution_count": 235,
     "metadata": {},
     "output_type": "execute_result"
    }
   ],
   "source": [
    "stats.levene(avg_08, avg_99) # TRUE! p > a"
   ]
  },
  {
   "cell_type": "code",
   "execution_count": 236,
   "id": "3e48212d",
   "metadata": {},
   "outputs": [
    {
     "data": {
      "text/plain": [
       "(0.04544847670182439, 0.9555730795247104)"
      ]
     },
     "execution_count": 236,
     "metadata": {},
     "output_type": "execute_result"
    }
   ],
   "source": [
    "tstat, pval = stats.f_oneway(theoretical_mean, avg_08, avg_99)\n",
    "tstat, pval"
   ]
  },
  {
   "cell_type": "code",
   "execution_count": 237,
   "id": "dc72f875",
   "metadata": {
    "scrolled": true
   },
   "outputs": [
    {
     "data": {
      "text/plain": [
       "(-0.3011962975077886, 0.7635345888327115)"
      ]
     },
     "execution_count": 237,
     "metadata": {},
     "output_type": "execute_result"
    }
   ],
   "source": [
    "tstat, pval = stats.ttest_ind(avg_08, avg_99)\n",
    "tstat, pval"
   ]
  },
  {
   "cell_type": "code",
   "execution_count": 238,
   "id": "23725b8e",
   "metadata": {},
   "outputs": [
    {
     "name": "stdout",
     "output_type": "stream",
     "text": [
      "Fail to Reject the Null\n"
     ]
    }
   ],
   "source": [
    "if pval < alpha:\n",
    "    print('Reject the Null')\n",
    "else:\n",
    "    print('Fail to Reject the Null')"
   ]
  },
  {
   "cell_type": "markdown",
   "id": "bf15329f",
   "metadata": {},
   "source": [
    "* Are compact cars more fuel-efficient than the average car?\n",
    "    * one-sample, one-tail test"
   ]
  },
  {
   "cell_type": "markdown",
   "id": "863f4257",
   "metadata": {},
   "source": [
    "$H_{0}$ = compact cars do not have greater fuel efficiency against the avg car\n",
    "\n",
    "$H_{a}$ = compact cars do have greater fuel efficiency against the avg car"
   ]
  },
  {
   "cell_type": "code",
   "execution_count": 239,
   "id": "29bc7887",
   "metadata": {},
   "outputs": [
    {
     "data": {
      "text/html": [
       "<div>\n",
       "<style scoped>\n",
       "    .dataframe tbody tr th:only-of-type {\n",
       "        vertical-align: middle;\n",
       "    }\n",
       "\n",
       "    .dataframe tbody tr th {\n",
       "        vertical-align: top;\n",
       "    }\n",
       "\n",
       "    .dataframe thead th {\n",
       "        text-align: right;\n",
       "    }\n",
       "</style>\n",
       "<table border=\"1\" class=\"dataframe\">\n",
       "  <thead>\n",
       "    <tr style=\"text-align: right;\">\n",
       "      <th></th>\n",
       "      <th>manufacturer</th>\n",
       "      <th>model</th>\n",
       "      <th>displ</th>\n",
       "      <th>year</th>\n",
       "      <th>cyl</th>\n",
       "      <th>trans</th>\n",
       "      <th>drv</th>\n",
       "      <th>cty</th>\n",
       "      <th>hwy</th>\n",
       "      <th>fl</th>\n",
       "      <th>class</th>\n",
       "      <th>avg_mileage</th>\n",
       "    </tr>\n",
       "  </thead>\n",
       "  <tbody>\n",
       "    <tr>\n",
       "      <th>1</th>\n",
       "      <td>audi</td>\n",
       "      <td>a4</td>\n",
       "      <td>1.8</td>\n",
       "      <td>1999</td>\n",
       "      <td>4</td>\n",
       "      <td>auto(l5)</td>\n",
       "      <td>f</td>\n",
       "      <td>18</td>\n",
       "      <td>29</td>\n",
       "      <td>p</td>\n",
       "      <td>compact</td>\n",
       "      <td>22.212766</td>\n",
       "    </tr>\n",
       "    <tr>\n",
       "      <th>2</th>\n",
       "      <td>audi</td>\n",
       "      <td>a4</td>\n",
       "      <td>1.8</td>\n",
       "      <td>1999</td>\n",
       "      <td>4</td>\n",
       "      <td>manual(m5)</td>\n",
       "      <td>f</td>\n",
       "      <td>21</td>\n",
       "      <td>29</td>\n",
       "      <td>p</td>\n",
       "      <td>compact</td>\n",
       "      <td>24.360000</td>\n",
       "    </tr>\n",
       "    <tr>\n",
       "      <th>3</th>\n",
       "      <td>audi</td>\n",
       "      <td>a4</td>\n",
       "      <td>2.0</td>\n",
       "      <td>2008</td>\n",
       "      <td>4</td>\n",
       "      <td>manual(m6)</td>\n",
       "      <td>f</td>\n",
       "      <td>20</td>\n",
       "      <td>31</td>\n",
       "      <td>p</td>\n",
       "      <td>compact</td>\n",
       "      <td>24.313725</td>\n",
       "    </tr>\n",
       "    <tr>\n",
       "      <th>4</th>\n",
       "      <td>audi</td>\n",
       "      <td>a4</td>\n",
       "      <td>2.0</td>\n",
       "      <td>2008</td>\n",
       "      <td>4</td>\n",
       "      <td>auto(av)</td>\n",
       "      <td>f</td>\n",
       "      <td>21</td>\n",
       "      <td>30</td>\n",
       "      <td>p</td>\n",
       "      <td>compact</td>\n",
       "      <td>24.705882</td>\n",
       "    </tr>\n",
       "    <tr>\n",
       "      <th>5</th>\n",
       "      <td>audi</td>\n",
       "      <td>a4</td>\n",
       "      <td>2.8</td>\n",
       "      <td>1999</td>\n",
       "      <td>6</td>\n",
       "      <td>auto(l5)</td>\n",
       "      <td>f</td>\n",
       "      <td>16</td>\n",
       "      <td>26</td>\n",
       "      <td>p</td>\n",
       "      <td>compact</td>\n",
       "      <td>19.809524</td>\n",
       "    </tr>\n",
       "  </tbody>\n",
       "</table>\n",
       "</div>"
      ],
      "text/plain": [
       "  manufacturer model  displ  year  cyl       trans drv  cty  hwy fl    class  \\\n",
       "1         audi    a4    1.8  1999    4    auto(l5)   f   18   29  p  compact   \n",
       "2         audi    a4    1.8  1999    4  manual(m5)   f   21   29  p  compact   \n",
       "3         audi    a4    2.0  2008    4  manual(m6)   f   20   31  p  compact   \n",
       "4         audi    a4    2.0  2008    4    auto(av)   f   21   30  p  compact   \n",
       "5         audi    a4    2.8  1999    6    auto(l5)   f   16   26  p  compact   \n",
       "\n",
       "   avg_mileage  \n",
       "1    22.212766  \n",
       "2    24.360000  \n",
       "3    24.313725  \n",
       "4    24.705882  \n",
       "5    19.809524  "
      ]
     },
     "execution_count": 239,
     "metadata": {},
     "output_type": "execute_result"
    }
   ],
   "source": [
    "mpg.head()"
   ]
  },
  {
   "cell_type": "code",
   "execution_count": 241,
   "id": "0260cb3a",
   "metadata": {},
   "outputs": [
    {
     "name": "stdout",
     "output_type": "stream",
     "text": [
      "<class 'pandas.core.frame.DataFrame'>\n",
      "Int64Index: 234 entries, 1 to 234\n",
      "Data columns (total 1 columns):\n",
      " #   Column  Non-Null Count  Dtype \n",
      "---  ------  --------------  ----- \n",
      " 0   class   234 non-null    object\n",
      "dtypes: object(1)\n",
      "memory usage: 11.8+ KB\n"
     ]
    }
   ],
   "source": [
    "mpg[['class']].info()"
   ]
  },
  {
   "cell_type": "code",
   "execution_count": 259,
   "id": "55a7754a",
   "metadata": {
    "collapsed": true
   },
   "outputs": [
    {
     "data": {
      "text/plain": [
       "1      22.212766\n",
       "2      24.360000\n",
       "3      24.313725\n",
       "4      24.705882\n",
       "5      19.809524\n",
       "         ...    \n",
       "230    22.638298\n",
       "231    24.360000\n",
       "232    19.809524\n",
       "233    21.272727\n",
       "234    20.558140\n",
       "Name: avg_mileage, Length: 234, dtype: float64"
      ]
     },
     "execution_count": 259,
     "metadata": {},
     "output_type": "execute_result"
    }
   ],
   "source": [
    "over_avg = mpg.avg_mileage\n",
    "over_avg"
   ]
  },
  {
   "cell_type": "code",
   "execution_count": 260,
   "id": "868bb1ed",
   "metadata": {
    "collapsed": true
   },
   "outputs": [
    {
     "data": {
      "text/plain": [
       "1      22.212766\n",
       "2      24.360000\n",
       "3      24.313725\n",
       "4      24.705882\n",
       "5      19.809524\n",
       "6      21.272727\n",
       "7      21.600000\n",
       "8      21.272727\n",
       "9      19.512195\n",
       "10     23.333333\n",
       "11     22.304348\n",
       "12     18.750000\n",
       "13     20.238095\n",
       "14     20.238095\n",
       "15     18.750000\n",
       "142    24.360000\n",
       "143    22.304348\n",
       "170    22.222222\n",
       "171    22.978723\n",
       "172    21.590909\n",
       "173    22.978723\n",
       "187    23.625000\n",
       "188    24.360000\n",
       "189    25.038462\n",
       "190    25.735849\n",
       "191    21.272727\n",
       "192    21.272727\n",
       "193    21.600000\n",
       "194    26.666667\n",
       "195    27.789474\n",
       "196    29.836066\n",
       "197    31.876923\n",
       "198    29.836066\n",
       "208    24.360000\n",
       "209    21.955556\n",
       "210    24.360000\n",
       "211    25.019608\n",
       "212    19.902439\n",
       "213    37.714286\n",
       "214    24.360000\n",
       "215    21.955556\n",
       "216    25.019608\n",
       "217    24.360000\n",
       "218    24.360000\n",
       "219    24.360000\n",
       "220    18.871795\n",
       "221    19.902439\n",
       "Name: avg_mileage, dtype: float64"
      ]
     },
     "execution_count": 260,
     "metadata": {},
     "output_type": "execute_result"
    }
   ],
   "source": [
    "compact_avg = mpg[mpg['class'] == 'compact'].avg_mileage\n",
    "compact_avg"
   ]
  },
  {
   "cell_type": "code",
   "execution_count": 261,
   "id": "ecc5d569",
   "metadata": {},
   "outputs": [
    {
     "data": {
      "image/png": "[encoded data removed]",
      "text/plain": [
       "<Figure size 900x600 with 1 Axes>"
      ]
     },
     "metadata": {},
     "output_type": "display_data"
    }
   ],
   "source": [
    "plt.figure(figsize=(9,6))\n",
    "compact_avg.hist()\n",
    "plt.show()"
   ]
  },
  {
   "cell_type": "code",
   "execution_count": 262,
   "id": "0207d86a",
   "metadata": {},
   "outputs": [
    {
     "data": {
      "image/png": "[encoded data removed]",
      "text/plain": [
       "<Figure size 900x600 with 1 Axes>"
      ]
     },
     "metadata": {},
     "output_type": "display_data"
    }
   ],
   "source": [
    "plt.figure(figsize=(9,6))\n",
    "over_avg.hist()\n",
    "plt.show()"
   ]
  },
  {
   "cell_type": "code",
   "execution_count": 264,
   "id": "2bbabb4b",
   "metadata": {},
   "outputs": [
    {
     "data": {
      "text/plain": [
       "(7.512360093161354, 7.808833174403864e-10)"
      ]
     },
     "execution_count": 264,
     "metadata": {},
     "output_type": "execute_result"
    }
   ],
   "source": [
    "tstat, pval = stats.ttest_1samp(compact_avg, over_avg.mean())\n",
    "tstat, (pval/2)"
   ]
  },
  {
   "cell_type": "code",
   "execution_count": 265,
   "id": "475c1490",
   "metadata": {
    "scrolled": true
   },
   "outputs": [
    {
     "data": {
      "text/plain": [
       "(23.500416808701296, 19.585525317633177)"
      ]
     },
     "execution_count": 265,
     "metadata": {},
     "output_type": "execute_result"
    }
   ],
   "source": [
    "compact_avg.mean(), over_avg.mean()"
   ]
  },
  {
   "cell_type": "code",
   "execution_count": 268,
   "id": "a7caecdb",
   "metadata": {},
   "outputs": [
    {
     "name": "stdout",
     "output_type": "stream",
     "text": [
      "Reject the Null\n"
     ]
    }
   ],
   "source": [
    "if ((pval < alpha) and (tstat > 0)):\n",
    "    print('Reject the Null')\n",
    "else:\n",
    "    print('Fail to Reject the Null')"
   ]
  },
  {
   "cell_type": "markdown",
   "id": "17478883",
   "metadata": {},
   "source": [
    "* Do manual cars get better gas mileage than automatic cars?\n",
    "    * two sample, one-tail"
   ]
  },
  {
   "cell_type": "markdown",
   "id": "7d5fcfeb",
   "metadata": {},
   "source": [
    "$H_{0}$ = manual cars do not have greater fuel efficiency against automatic cars\n",
    "\n",
    "$H_{a}$ = manual cars do have greater fuel efficiency against automatic cars"
   ]
  },
  {
   "cell_type": "code",
   "execution_count": 106,
   "id": "c90bc00d",
   "metadata": {},
   "outputs": [
    {
     "data": {
      "text/html": [
       "<div>\n",
       "<style scoped>\n",
       "    .dataframe tbody tr th:only-of-type {\n",
       "        vertical-align: middle;\n",
       "    }\n",
       "\n",
       "    .dataframe tbody tr th {\n",
       "        vertical-align: top;\n",
       "    }\n",
       "\n",
       "    .dataframe thead th {\n",
       "        text-align: right;\n",
       "    }\n",
       "</style>\n",
       "<table border=\"1\" class=\"dataframe\">\n",
       "  <thead>\n",
       "    <tr style=\"text-align: right;\">\n",
       "      <th></th>\n",
       "      <th>manufacturer</th>\n",
       "      <th>model</th>\n",
       "      <th>displ</th>\n",
       "      <th>year</th>\n",
       "      <th>cyl</th>\n",
       "      <th>trans</th>\n",
       "      <th>drv</th>\n",
       "      <th>cty</th>\n",
       "      <th>hwy</th>\n",
       "      <th>fl</th>\n",
       "      <th>class</th>\n",
       "      <th>avg_mileage</th>\n",
       "    </tr>\n",
       "  </thead>\n",
       "  <tbody>\n",
       "    <tr>\n",
       "      <th>1</th>\n",
       "      <td>audi</td>\n",
       "      <td>a4</td>\n",
       "      <td>1.8</td>\n",
       "      <td>1999</td>\n",
       "      <td>4</td>\n",
       "      <td>auto(l5)</td>\n",
       "      <td>f</td>\n",
       "      <td>18</td>\n",
       "      <td>29</td>\n",
       "      <td>p</td>\n",
       "      <td>compact</td>\n",
       "      <td>23.5</td>\n",
       "    </tr>\n",
       "    <tr>\n",
       "      <th>2</th>\n",
       "      <td>audi</td>\n",
       "      <td>a4</td>\n",
       "      <td>1.8</td>\n",
       "      <td>1999</td>\n",
       "      <td>4</td>\n",
       "      <td>manual(m5)</td>\n",
       "      <td>f</td>\n",
       "      <td>21</td>\n",
       "      <td>29</td>\n",
       "      <td>p</td>\n",
       "      <td>compact</td>\n",
       "      <td>25.0</td>\n",
       "    </tr>\n",
       "    <tr>\n",
       "      <th>3</th>\n",
       "      <td>audi</td>\n",
       "      <td>a4</td>\n",
       "      <td>2.0</td>\n",
       "      <td>2008</td>\n",
       "      <td>4</td>\n",
       "      <td>manual(m6)</td>\n",
       "      <td>f</td>\n",
       "      <td>20</td>\n",
       "      <td>31</td>\n",
       "      <td>p</td>\n",
       "      <td>compact</td>\n",
       "      <td>25.5</td>\n",
       "    </tr>\n",
       "    <tr>\n",
       "      <th>4</th>\n",
       "      <td>audi</td>\n",
       "      <td>a4</td>\n",
       "      <td>2.0</td>\n",
       "      <td>2008</td>\n",
       "      <td>4</td>\n",
       "      <td>auto(av)</td>\n",
       "      <td>f</td>\n",
       "      <td>21</td>\n",
       "      <td>30</td>\n",
       "      <td>p</td>\n",
       "      <td>compact</td>\n",
       "      <td>25.5</td>\n",
       "    </tr>\n",
       "    <tr>\n",
       "      <th>5</th>\n",
       "      <td>audi</td>\n",
       "      <td>a4</td>\n",
       "      <td>2.8</td>\n",
       "      <td>1999</td>\n",
       "      <td>6</td>\n",
       "      <td>auto(l5)</td>\n",
       "      <td>f</td>\n",
       "      <td>16</td>\n",
       "      <td>26</td>\n",
       "      <td>p</td>\n",
       "      <td>compact</td>\n",
       "      <td>21.0</td>\n",
       "    </tr>\n",
       "  </tbody>\n",
       "</table>\n",
       "</div>"
      ],
      "text/plain": [
       "  manufacturer model  displ  year  cyl       trans drv  cty  hwy fl    class  \\\n",
       "1         audi    a4    1.8  1999    4    auto(l5)   f   18   29  p  compact   \n",
       "2         audi    a4    1.8  1999    4  manual(m5)   f   21   29  p  compact   \n",
       "3         audi    a4    2.0  2008    4  manual(m6)   f   20   31  p  compact   \n",
       "4         audi    a4    2.0  2008    4    auto(av)   f   21   30  p  compact   \n",
       "5         audi    a4    2.8  1999    6    auto(l5)   f   16   26  p  compact   \n",
       "\n",
       "   avg_mileage  \n",
       "1         23.5  \n",
       "2         25.0  \n",
       "3         25.5  \n",
       "4         25.5  \n",
       "5         21.0  "
      ]
     },
     "execution_count": 106,
     "metadata": {},
     "output_type": "execute_result"
    }
   ],
   "source": [
    "mpg.head()"
   ]
  },
  {
   "cell_type": "code",
   "execution_count": 176,
   "id": "389e51d7",
   "metadata": {},
   "outputs": [],
   "source": [
    "auto_car = mpg[mpg.trans.str.contains('auto')].avg_mileage"
   ]
  },
  {
   "cell_type": "code",
   "execution_count": 177,
   "id": "91ad0b75",
   "metadata": {},
   "outputs": [],
   "source": [
    "manual_car = mpg[mpg.trans.str.contains('manual')].avg_mileage"
   ]
  },
  {
   "cell_type": "code",
   "execution_count": 272,
   "id": "7b671950",
   "metadata": {},
   "outputs": [
    {
     "data": {
      "image/png": "[encoded data removed]",
      "text/plain": [
       "<Figure size 900x600 with 1 Axes>"
      ]
     },
     "metadata": {},
     "output_type": "display_data"
    }
   ],
   "source": [
    "plt.figure(figsize=(9,6))\n",
    "auto_car.hist()\n",
    "plt.show()"
   ]
  },
  {
   "cell_type": "code",
   "execution_count": 273,
   "id": "e16f727f",
   "metadata": {},
   "outputs": [
    {
     "data": {
      "image/png": "[encoded data removed]",
      "text/plain": [
       "<Figure size 900x600 with 1 Axes>"
      ]
     },
     "metadata": {},
     "output_type": "display_data"
    }
   ],
   "source": [
    "plt.figure(figsize=(9,6))\n",
    "manual_car.hist()\n",
    "plt.show()"
   ]
  },
  {
   "cell_type": "markdown",
   "id": "94e3f535",
   "metadata": {},
   "source": [
    "## Variance Check because TWO SAMPLE"
   ]
  },
  {
   "cell_type": "code",
   "execution_count": 275,
   "id": "8bf215ef",
   "metadata": {},
   "outputs": [
    {
     "data": {
      "text/plain": [
       "LeveneResult(statistic=0.20075824847529639, pvalue=0.6545276355131857)"
      ]
     },
     "execution_count": 275,
     "metadata": {},
     "output_type": "execute_result"
    }
   ],
   "source": [
    "stats.levene(auto_car, manual_car) # p > a, TRUE!"
   ]
  },
  {
   "cell_type": "code",
   "execution_count": 276,
   "id": "dab7b1e7",
   "metadata": {},
   "outputs": [
    {
     "data": {
      "text/plain": [
       "(-4.593437735750014, 3.5771872005728416e-06)"
      ]
     },
     "execution_count": 276,
     "metadata": {},
     "output_type": "execute_result"
    }
   ],
   "source": [
    "tstat, pval = stats.ttest_ind(auto_car, manual_car)\n",
    "tstat, pval/2"
   ]
  },
  {
   "cell_type": "code",
   "execution_count": 277,
   "id": "60a35a2e",
   "metadata": {},
   "outputs": [
    {
     "name": "stdout",
     "output_type": "stream",
     "text": [
      "Reject the Null\n"
     ]
    }
   ],
   "source": [
    "if ((pval < alpha) and (tstat < 0)):\n",
    "    print('Reject the Null')\n",
    "else:\n",
    "    print('Fail to Reject the Null')"
   ]
  }
 ],
 "metadata": {
  "kernelspec": {
   "display_name": "Python 3 (ipykernel)",
   "language": "python",
   "name": "python3"
  },
  "language_info": {
   "codemirror_mode": {
    "name": "ipython",
    "version": 3
   },
   "file_extension": ".py",
   "mimetype": "text/x-python",
   "name": "python",
   "nbconvert_exporter": "python",
   "pygments_lexer": "ipython3",
   "version": "3.9.13"
  }
 },
 "nbformat": 4,
 "nbformat_minor": 5
}
